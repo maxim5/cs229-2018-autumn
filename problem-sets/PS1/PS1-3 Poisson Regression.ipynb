{
 "cells": [
  {
   "cell_type": "markdown",
   "metadata": {
    "collapsed": true,
    "pycharm": {
     "name": "#%% md\n"
    }
   },
   "source": [
    "## PS1-3 Poisson Regression"
   ]
  },
  {
   "cell_type": "markdown",
   "metadata": {
    "collapsed": false,
    "pycharm": {
     "name": "#%% md\n"
    }
   },
   "source": [
    "#### (a)"
   ]
  },
  {
   "cell_type": "markdown",
   "metadata": {
    "collapsed": false,
    "pycharm": {
     "name": "#%% md\n"
    }
   },
   "source": [
    "\\begin{align*}\n",
    "p(y; \\ \\lambda) & = \\frac{e^{- \\lambda} \\ \\lambda^y}{y \\ !} \\\\\n",
    "                & = \\frac{1}{y \\ !} \\exp (y \\log \\lambda - \\lambda) \\\\\n",
    "                & = b(y) \\exp(\\eta^T T(y) - a(\\eta))\n",
    "\\end{align*}\n",
    "\n",
    "where $b(y) = \\frac{1}{y \\ !}$, $T(y) = y$, $\\eta = \\log \\lambda$ and $a(\\eta) = \\exp(\\eta)$."
   ]
  },
  {
   "cell_type": "markdown",
   "metadata": {
    "collapsed": false,
    "pycharm": {
     "name": "#%% md\n"
    }
   },
   "source": [
    "#### (b)"
   ]
  },
  {
   "cell_type": "markdown",
   "metadata": {
    "collapsed": false,
    "pycharm": {
     "name": "#%% md\n"
    }
   },
   "source": [
    "\\begin{align*}\n",
    "\\mathbb{E} [T(y); \\ \\eta] & = \\mathbb{E} [y; \\ \\eta] \\\\\n",
    "                          & = \\lambda \\\\\n",
    "                          & = \\exp (\\eta)\n",
    "\\end{align*}"
   ]
  },
  {
   "cell_type": "markdown",
   "metadata": {
    "collapsed": false,
    "pycharm": {
     "name": "#%% md\n"
    }
   },
   "source": [
    "#### (c)"
   ]
  },
  {
   "cell_type": "markdown",
   "metadata": {
    "collapsed": false,
    "pycharm": {
     "name": "#%% md\n"
    }
   },
   "source": [
    "Recall the design choices of GLM:\n",
    "\n",
    "1. $y \\ \\vert \\ x; \\ \\theta \\sim \\mathrm{ExponentialFamily} (\\eta)$\n",
    "\n",
    "2. $h(x) = \\mathbb{E} [y \\ \\vert \\ x]$\n",
    "\n",
    "3. $\\eta = \\theta^T x$\n",
    "\n",
    "Plug them into $\\ell$:\n",
    "\n",
    "\\begin{align*}\n",
    "\\ell (\\theta) & = \\log p(y^{(i)} \\ \\vert \\ x^{(i)}; \\ \\theta) \\\\\n",
    "              & = \\log b(y^{(i)}) \\exp (\\eta^T T(y^{(i)}) - a(y^{(i)})) \\\\\n",
    "              & = (x^{(i)})^T \\theta y^{(i)} - \\exp (\\theta^T x^{(i)}) - \\log y^{(i)} !\n",
    "\\end{align*}\n",
    "\n",
    "By design choice 2 and 3:\n",
    "\n",
    "\\begin{align*}\n",
    "h(x) & = \\mathbb{E} [y \\ \\vert \\ x] \\\\\n",
    "     & = \\lambda \\\\\n",
    "     & = \\exp (\\eta) \\\\\n",
    "     & = \\exp (\\theta^T x)\n",
    "\\end{align*}\n",
    "\n",
    "Therefore,\n",
    "\n",
    "\\begin{align*}\n",
    "\\frac{\\partial}{\\partial \\theta}\\ell (\\theta) & = x^{(i)} y^{(i)} - x^{(i)} \\exp (\\theta^T x^{(i)}) \\\\\n",
    "                                              & = \\big( y^{(i)} - h_\\theta(x^{(i)}) \\big) \\ x^{(i)}\n",
    "\\end{align*}\n",
    "\n",
    "The stochastic gradient ascent update rule is:\n",
    "\n",
    "$$\\theta := \\theta + \\alpha \\ \\big( y^{(i)} - h_\\theta (x^{(i)}) \\big) \\ x^{(i)}$$"
   ]
  },
  {
   "cell_type": "markdown",
   "metadata": {
    "collapsed": false,
    "pycharm": {
     "name": "#%% md\n"
    }
   },
   "source": [
    "#### (d)"
   ]
  },
  {
   "cell_type": "code",
   "execution_count": 1,
   "metadata": {
    "collapsed": false,
    "pycharm": {
     "name": "#%% code\n"
    }
   },
   "outputs": [],
   "source": [
    "import matplotlib.pyplot as plt\n",
    "import numpy as np\n",
    "import src.util as util\n",
    "\n",
    "from src.linear_model import LinearModel"
   ]
  },
  {
   "cell_type": "code",
   "execution_count": 2,
   "metadata": {
    "collapsed": false,
    "pycharm": {
     "name": "#%% code\n"
    }
   },
   "outputs": [],
   "source": [
    "x_train, y_train = util.load_dataset('data/ds4_train.csv', add_intercept=True)\n",
    "x_valid, y_valid = util.load_dataset('data/ds4_valid.csv', add_intercept=True)"
   ]
  },
  {
   "cell_type": "markdown",
   "metadata": {
    "collapsed": false,
    "pycharm": {
     "name": "#%% md\n"
    }
   },
   "source": [
    "Implement Poisson Regression:"
   ]
  },
  {
   "cell_type": "code",
   "execution_count": 3,
   "metadata": {
    "collapsed": false,
    "pycharm": {
     "name": "#%% code\n"
    }
   },
   "outputs": [],
   "source": [
    "class PoissonRegression(LinearModel):\n",
    "    \"\"\"Poisson Regression.\n",
    "\n",
    "    Example usage:\n",
    "        > clf = PoissonRegression(step_size=lr)\n",
    "        > clf.fit(x_train, y_train)\n",
    "        > clf.predict(x_eval)\n",
    "    \"\"\"\n",
    "\n",
    "    def h(self, theta, x):\n",
    "        \"\"\"Vectorized implementation of h.\n",
    "\n",
    "        :param theta: Shape (n,).\n",
    "        :param x:     Training example inputs. Shape (m, n).\n",
    "        :return:      The hypothesis of Poisson Regression, given by h(x) = exp(theta^T x). Shape (m,).\n",
    "        \"\"\"\n",
    "        return np.exp(x @ theta)\n",
    "\n",
    "    def fit(self, x, y):\n",
    "        \"\"\"Run gradient ascent to maximize likelihood for Poisson regression.\n",
    "\n",
    "        :param x: Training example inputs. Shape (m, n).\n",
    "        :param y: Training example labels. Shape (m,).\n",
    "        \"\"\"\n",
    "\n",
    "        def next_step(theta):\n",
    "            return self.step_size / m * x.T @ (y - self.h(theta, x))\n",
    "\n",
    "        m, n = x.shape\n",
    "\n",
    "        # Initialize theta\n",
    "        if self.theta is None:\n",
    "            theta = np.zeros(n)\n",
    "        else:\n",
    "            theta = self.theta\n",
    "\n",
    "        # Update theta\n",
    "        step = next_step(theta)\n",
    "        while np.linalg.norm(step, 1) >= self.eps:\n",
    "            theta += step\n",
    "            step = next_step(theta)\n",
    "\n",
    "        self.theta = theta\n",
    "\n",
    "    def predict(self, x):\n",
    "        \"\"\"Make a prediction given inputs x.\n",
    "\n",
    "        :param x: Inputs of shape (m, n).\n",
    "        :return   Floating-point prediction for each input, shape (m,).\n",
    "        \"\"\"\n",
    "\n",
    "        return self.h(self.theta, x)"
   ]
  },
  {
   "cell_type": "markdown",
   "metadata": {
    "collapsed": false,
    "pycharm": {
     "name": "#%% md\n"
    }
   },
   "source": [
    "Tune the learning rate and train the Poisson Regression model:"
   ]
  },
  {
   "cell_type": "code",
   "execution_count": 4,
   "metadata": {
    "collapsed": false,
    "pycharm": {
     "name": "#%% code\n"
    }
   },
   "outputs": [],
   "source": [
    "clf = PoissonRegression(step_size=2e-7)\n",
    "clf.fit(x_train, y_train)"
   ]
  },
  {
   "cell_type": "markdown",
   "metadata": {
    "collapsed": false,
    "pycharm": {
     "name": "#%% md\n"
    }
   },
   "source": [
    "Plot the predictions on training set:"
   ]
  },
  {
   "cell_type": "code",
   "execution_count": 5,
   "metadata": {
    "collapsed": false,
    "pycharm": {
     "name": "#%% code\n"
    }
   },
   "outputs": [],
   "source": [
    "def plot(y_label, y_pred, title):\n",
    "    plt.plot(y_label, 'go', label='label')\n",
    "    plt.plot(y_pred, 'rx', label='prediction')\n",
    "    plt.suptitle(title, fontsize=12)\n",
    "    plt.legend(loc='upper left')"
   ]
  },
  {
   "cell_type": "code",
   "execution_count": 6,
   "metadata": {
    "collapsed": false,
    "pycharm": {
     "name": "#%% code\n"
    }
   },
   "outputs": [
    {
     "data": {
      "image/png": "[encoded data removed]",
      "text/plain": [
       "<Figure size 432x288 with 1 Axes>"
      ]
     },
     "metadata": {
      "needs_background": "light"
     },
     "output_type": "display_data"
    }
   ],
   "source": [
    "y_train_pred = clf.predict(x_train)\n",
    "plot(y_train, y_train_pred, 'Training Set')"
   ]
  },
  {
   "cell_type": "markdown",
   "metadata": {
    "collapsed": false,
    "pycharm": {
     "name": "#%% md\n"
    }
   },
   "source": [
    "Plot the predictions on validation set:"
   ]
  },
  {
   "cell_type": "code",
   "execution_count": 7,
   "metadata": {
    "collapsed": false,
    "pycharm": {
     "name": "#%% code\n"
    }
   },
   "outputs": [
    {
     "data": {
      "image/png": "[encoded data removed]",
      "text/plain": [
       "<Figure size 432x288 with 1 Axes>"
      ]
     },
     "metadata": {
      "needs_background": "light"
     },
     "output_type": "display_data"
    }
   ],
   "source": [
    "y_valid_pred = clf.predict(x_valid)\n",
    "plot(y_valid, y_valid_pred, 'Validation Set')"
   ]
  }
 ],
 "metadata": {
  "kernelspec": {
   "display_name": "cs229",
   "language": "python",
   "name": "cs229"
  },
  "language_info": {
   "codemirror_mode": {
    "name": "ipython",
    "version": 2
   },
   "file_extension": ".py",
   "mimetype": "text/x-python",
   "name": "python",
   "nbconvert_exporter": "python",
   "pygments_lexer": "ipython2",
   "version": "2.7.6"
  }
 },
 "nbformat": 4,
 "nbformat_minor": 0
}
