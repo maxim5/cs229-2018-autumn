{
 "cells": [
  {
   "cell_type": "markdown",
   "metadata": {
    "collapsed": true,
    "pycharm": {
     "name": "#%% md\n"
    }
   },
   "source": [
    "## PS2-6 Spam classification"
   ]
  },
  {
   "cell_type": "markdown",
   "metadata": {
    "collapsed": false,
    "pycharm": {
     "name": "#%% md\n"
    }
   },
   "source": [
    "#### (a)"
   ]
  },
  {
   "cell_type": "code",
   "execution_count": 1,
   "metadata": {
    "collapsed": false,
    "pycharm": {
     "name": "#%% code\n"
    }
   },
   "outputs": [],
   "source": [
    "import collections\n",
    "\n",
    "import numpy as np\n",
    "\n",
    "import src.svm as svm\n",
    "import src.util as util"
   ]
  },
  {
   "cell_type": "code",
   "execution_count": 2,
   "metadata": {
    "collapsed": false,
    "pycharm": {
     "name": "#%% code\n"
    }
   },
   "outputs": [],
   "source": [
    "def get_words(message):\n",
    "    \"\"\"Get the normalized list of words from a message string.\n",
    "\n",
    "    This function should split a message into words, normalize them, and return\n",
    "    the resulting list. For splitting, you should split on spaces. For normalization,\n",
    "    you should convert everything to lowercase.\n",
    "\n",
    "    Args:\n",
    "        message: A string containing an SMS message\n",
    "\n",
    "    Returns:\n",
    "       The list of normalized words from the message.\n",
    "    \"\"\"\n",
    "    return message.lower().split()"
   ]
  },
  {
   "cell_type": "code",
   "execution_count": 3,
   "metadata": {
    "collapsed": false,
    "pycharm": {
     "name": "#%% code\n"
    }
   },
   "outputs": [],
   "source": [
    "def create_dictionary(messages):\n",
    "    \"\"\"Create a dictionary mapping words to integer indices.\n",
    "\n",
    "    This function should create a dictionary of word to indices using the provided\n",
    "    training messages. Use get_words to process each message.\n",
    "\n",
    "    Rare words are often not useful for modeling. Please only add words to the dictionary\n",
    "    if they occur in at least five messages.\n",
    "\n",
    "    Args:\n",
    "        messages: A list of strings containing SMS messages\n",
    "\n",
    "    Returns:\n",
    "        A python dict mapping words to integers.\n",
    "    \"\"\"\n",
    "    # Extract words and flatten the word list\n",
    "    words = [word for message in messages for word in get_words(message)]\n",
    "\n",
    "    # Create word count dictionary\n",
    "    word_counts = collections.Counter(words)\n",
    "\n",
    "    # Filter out rare words\n",
    "    freq_words = [word for word, count in word_counts.items() if count >= 5]\n",
    "\n",
    "    return { word: index for index, word in enumerate(freq_words) }"
   ]
  },
  {
   "cell_type": "code",
   "execution_count": 4,
   "metadata": {
    "collapsed": false,
    "pycharm": {
     "name": "#%% code\n"
    }
   },
   "outputs": [],
   "source": [
    "def transform_text(messages, word_dictionary):\n",
    "    \"\"\"Transform a list of text messages into a numpy array for further processing.\n",
    "\n",
    "    This function should create a numpy array that contains the number of times each word\n",
    "    appears in each message. Each row in the resulting array should correspond to each\n",
    "    message and each column should correspond to a word.\n",
    "\n",
    "    Use the provided word dictionary to map words to column indices. Ignore words that\n",
    "    are not present in the dictionary. Use get_words to get the words for a message.\n",
    "\n",
    "    Args:\n",
    "        messages: A list of strings where each string is an SMS message.\n",
    "        word_dictionary: A python dict mapping words to integers.\n",
    "\n",
    "    Returns:\n",
    "        A numpy array marking the words present in each message.\n",
    "    \"\"\"\n",
    "\n",
    "    m, n = len(messages), len(word_dictionary)\n",
    "    word_counts = [collections.Counter(get_words(message)) for message in messages]\n",
    "\n",
    "    matrix = np.zeros((m, n), dtype=int)\n",
    "\n",
    "    for i in range(m):\n",
    "        for word, count in word_counts[i].items():\n",
    "            if word in word_dictionary:\n",
    "                matrix[i][word_dictionary[word]] += count\n",
    "\n",
    "    return matrix"
   ]
  },
  {
   "cell_type": "markdown",
   "metadata": {
    "collapsed": false,
    "pycharm": {
     "name": "#%% md\n"
    }
   },
   "source": [
    "#### (b)"
   ]
  },
  {
   "cell_type": "markdown",
   "metadata": {
    "collapsed": false,
    "pycharm": {
     "name": "#%% md\n"
    }
   },
   "source": [
    "\\begin{align*}\n",
    "\\ell (\\phi_y, \\phi_{k \\vert y = 1}, \\phi_{k \\vert y = 0})\n",
    "    & = \\sum_{i = 1}^{m} \\log p(x^{(i)}, y^{(i)}; \\ \\phi_y, \\phi_{k \\vert y = 1}, \\phi_{k \\vert y = 0}) \\\\\n",
    "    & = \\sum_{i = 1}^{m} \\log p(x^{(i)} \\ \\vert \\ y^{(i)}; \\ \\phi_{k \\vert y = 1}, \\phi_{k \\vert y = 0}) \\ p(y^{(i)}; \\ \\phi_y) \\\\\n",
    "\\end{align*}\n",
    "\n",
    "where $x^{(i)} \\ \\vert \\ y^{(i) = 1}; \\phi_{k \\vert y = 1} \\sim \\mathrm{Mult}(n, \\phi_{k \\vert y = 1})$, $\\phi_{k \\vert y = 1}$ is the\n",
    "probability that word $k$ appears given $y = 1$. Similar for $\\phi_{k \\vert y = 0}$.\n",
    "\n",
    "Therefore, to maximize $\\ell$ w.r.t $\\phi_{k \\vert y = 1}$ is equivalent to maximizing\n",
    "\n",
    "$$\n",
    "\\sum_{i = 1}^{m} 1 \\{ y^{(i)} = 1 \\} \\sum_{k = 1}^{n} x_k^{(i)} \\log \\phi_{k \\vert y = 1}\n",
    "$$\n",
    "\n",
    "subject to the constraints $\\phi_{k \\vert y = 1} \\geq 0$ and $\\sum_{k = 1}^{n} \\phi_{k \\vert y = 1} = 1$, where $x_k^{(i)}$ is the\n",
    "number of times that word $k$ appears in the $i$-th message.\n",
    "\n",
    "By introducing a Lagrange multiplier $\\lambda \\in \\mathbb{R}$ corresponding to the second constraint, we have\n",
    "\n",
    "$$\n",
    "\\mathcal{L}(\\lambda, \\phi_{k \\vert y = 1}) = \\sum_{i = 1}^{m} 1 \\{ y^{(i)} = 1 \\} \\sum_{i = 1}^{n} x_k^{(i)} \\log \\phi_{k \\vert y = 1} - \\lambda \\big( \\sum_{k = 1}^{n} \\phi_{k \\vert y = 1} - 1 \\big)\n",
    "$$\n",
    "\n",
    "By solving the Lagrange multiplier problem and applying Laplace smoothing,\n",
    "\n",
    "$$\n",
    "\\phi_{k \\vert y = 1} := \\frac{1 + \\sum_{i = 1}^{m} 1 \\{ y^{(i)} = 1 \\} x_k^{(i)}}{n + \\sum_{i = 1}^{m} 1 \\{ y^{(i)} = 1 \\} \\sum_{j = 1}^{n} x_j^{(i)}}\n",
    "$$.\n",
    "\n",
    "Similarly,\n",
    "\n",
    "$$\n",
    "\\phi_{k \\vert y = 0} := \\frac{1 + \\sum_{i = 1}^{m} 1 \\{ y^{(i)} = 0 \\} x_k^{(i)}}{n + \\sum_{i = 1}^{m} 1 \\{ y^{(i)} = 0 \\} \\sum_{j = 1}^{n} x_j^{(i)}}\n",
    "$$\n",
    "\n",
    "and $\\phi_y$ is still $(1 / m) \\sum_{i = 1}^{m} 1 \\{ y^{(i)} = 1 \\}$."
   ]
  },
  {
   "cell_type": "code",
   "execution_count": 5,
   "metadata": {
    "collapsed": false,
    "pycharm": {
     "name": "#%% code\n"
    }
   },
   "outputs": [],
   "source": [
    "def fit_naive_bayes_model(matrix, labels):\n",
    "    \"\"\"Fit a naive bayes model.\n",
    "\n",
    "    This function should fit a Naive Bayes model given a training matrix and labels.\n",
    "\n",
    "    The function should return the state of that model.\n",
    "\n",
    "    Feel free to use whatever datatype you wish for the state of the model.\n",
    "\n",
    "    Args:\n",
    "        matrix: A numpy array containing word counts for the training data\n",
    "        labels: The binary (0 or 1) labels for that training data\n",
    "\n",
    "    Returns: The trained model\n",
    "    \"\"\"\n",
    "\n",
    "    _, n = matrix.shape\n",
    "\n",
    "    phi_y = np.mean(labels)\n",
    "    phi_k_y1 = (1 + matrix[labels == 1].sum(axis=0)) / (n + matrix[labels == 1].sum())\n",
    "    phi_k_y0 = (1 + matrix[labels == 0].sum(axis=0)) / (n + matrix[labels == 0].sum())\n",
    "\n",
    "    return phi_y, phi_k_y1, phi_k_y0"
   ]
  },
  {
   "cell_type": "markdown",
   "metadata": {
    "collapsed": false,
    "pycharm": {
     "name": "#%% md\n"
    }
   },
   "source": [
    "To make a prediction, instead of computing the probabilities explicitly, we compare the logarithm of $p(y = 1 \\ \\vert \\ x) / p(y = 0 \\ \\vert \\ x)$ with 0.\n",
    "\n",
    "\\begin{align*}\n",
    "\\log \\frac{p(y = 1 \\ \\vert \\ x)}{p(y = 0 \\ \\vert \\ x)}\n",
    "    & = \\log \\frac{p(x \\ \\vert \\ y = 1) \\ p(y = 1)}{p(x \\ \\vert \\ y = 0) \\ p(y = 0)} \\\\\n",
    "    & = \\log \\frac{\\big( \\prod_{k = 1}^{n} p(x_k \\ \\vert \\ y = 1) \\big) p(y = 1)}{\\big( \\prod_{k = 1}^{n} p(x_k \\ \\vert \\ y = 0) \\big) p(y = 0)} \\\\\n",
    "    & = \\sum_{k = 1}^{n} x_k (\\log \\phi_{k \\vert y = 1} - \\log \\phi_{k \\vert y = 0}) + \\log \\frac{\\phi_y}{1 - \\phi_y}\n",
    "\\end{align*}"
   ]
  },
  {
   "cell_type": "code",
   "execution_count": 6,
   "metadata": {
    "collapsed": false,
    "pycharm": {
     "name": "#%% code\n"
    }
   },
   "outputs": [],
   "source": [
    "def predict_from_naive_bayes_model(model, matrix):\n",
    "    \"\"\"Use a Naive Bayes model to compute predictions for a target matrix.\n",
    "\n",
    "    This function should be able to predict on the models that fit_naive_bayes_model\n",
    "    outputs.\n",
    "\n",
    "    Args:\n",
    "        model: A trained model from fit_naive_bayes_model\n",
    "        matrix: A numpy array containing word counts\n",
    "\n",
    "    Returns: A numpy array containg the predictions from the model\n",
    "    \"\"\"\n",
    "\n",
    "    phi_y, phi_k_y1, phi_k_y0 = model\n",
    "\n",
    "    return matrix @ (np.log(phi_k_y1) - np.log(phi_k_y0)) + np.log(phi_y / (1 - phi_y)) >= 0"
   ]
  },
  {
   "cell_type": "markdown",
   "metadata": {
    "collapsed": false,
    "pycharm": {
     "name": "#%% md\n"
    }
   },
   "source": [
    "#### (c)"
   ]
  },
  {
   "cell_type": "markdown",
   "metadata": {
    "collapsed": false,
    "pycharm": {
     "name": "#%% md\n"
    }
   },
   "source": [
    "Recall the definition of $\\phi_{k \\vert y = 1}$ and $\\phi_{k \\vert y = 0}$,\n",
    "\n",
    "$$\\log \\frac{p(x_j = i \\ \\vert \\ y = 1)}{p(x_j = i \\ \\vert \\ y = 0)} = \\log \\frac{\\phi_{i \\vert y = 1}}{\\phi_{i \\vert y = 0}}$$"
   ]
  },
  {
   "cell_type": "code",
   "execution_count": 7,
   "metadata": {
    "collapsed": false,
    "pycharm": {
     "name": "#%% code\n"
    }
   },
   "outputs": [],
   "source": [
    "def get_top_five_naive_bayes_words(model, dictionary):\n",
    "    \"\"\"Compute the top five words that are most indicative of the spam (i.e positive) class.\n",
    "\n",
    "    Ues the metric given in 6c as a measure of how indicative a word is.\n",
    "    Return the words in sorted form, with the most indicative word first.\n",
    "\n",
    "    Args:\n",
    "        model: The Naive Bayes model returned from fit_naive_bayes_model\n",
    "        dictionary: A mapping of word to integer ids\n",
    "\n",
    "    Returns: The top five most indicative words in sorted order with the most indicative first\n",
    "    \"\"\"\n",
    "\n",
    "    _, phi_i_y1, phi_i_y0 = model\n",
    "\n",
    "    inv_dictionary = { v: k for k, v in dictionary.items() }\n",
    "\n",
    "    # Sort log(phi_i_y1 / phi_i_y0) in descending order and pick the top five\n",
    "    top_five_indicative_word_index = np.argsort(-(np.log(phi_i_y1) - np.log(phi_i_y0)))[:5]\n",
    "\n",
    "    return [inv_dictionary[i] for i in top_five_indicative_word_index]"
   ]
  },
  {
   "cell_type": "markdown",
   "metadata": {
    "collapsed": false,
    "pycharm": {
     "name": "#%% md\n"
    }
   },
   "source": [
    "#### (d)"
   ]
  },
  {
   "cell_type": "code",
   "execution_count": 8,
   "metadata": {
    "collapsed": false,
    "pycharm": {
     "name": "#%% code\n"
    }
   },
   "outputs": [],
   "source": [
    "def compute_best_svm_radius(train_matrix, train_labels, val_matrix, val_labels, radius_to_consider):\n",
    "    \"\"\"Compute the optimal SVM radius using the provided training and evaluation datasets.\n",
    "\n",
    "    You should only consider radius values within the radius_to_consider list.\n",
    "    You should use accuracy as a metric for comparing the different radius values.\n",
    "\n",
    "    Args:\n",
    "        train_matrix: The word counts for the training data\n",
    "        train_labels: The spam or not spam labels for the training data\n",
    "        val_matrix: The word counts for the validation data\n",
    "        val_labels: The spam or not spam labels for the validation data\n",
    "        radius_to_consider: The radius values to consider\n",
    "\n",
    "    Returns:\n",
    "        The best radius which maximizes SVM accuracy.\n",
    "    \"\"\"\n",
    "\n",
    "    best_radius = radius_to_consider[0]\n",
    "    best_accuracy = .0\n",
    "\n",
    "    for radius in radius_to_consider:\n",
    "        accuracy = np.mean(svm.train_and_predict_svm(train_matrix, train_labels, val_matrix, radius) == val_labels)\n",
    "        if accuracy > best_accuracy:\n",
    "            best_radius = radius\n",
    "            best_accuracy = accuracy\n",
    "\n",
    "    return best_radius"
   ]
  },
  {
   "cell_type": "code",
   "execution_count": 9,
   "metadata": {
    "collapsed": false,
    "pycharm": {
     "name": "#%% code\n"
    }
   },
   "outputs": [
    {
     "name": "stdout",
     "output_type": "stream",
     "text": [
      "Naive Bayes had an accuracy of 0.978494623655914 on the testing set\n",
      "The top 5 indicative words for Naive Bayes are:  ['claim', 'won', 'prize', 'tone', 'urgent!']\n",
      "The optimal SVM radius was 0.1\n",
      "The SVM model had an accuracy of 0.9695340501792115 on the testing set\n"
     ]
    }
   ],
   "source": [
    "train_messages, train_labels = util.load_spam_dataset('data/ds6_train.tsv')\n",
    "val_messages, val_labels = util.load_spam_dataset('data/ds6_val.tsv')\n",
    "test_messages, test_labels = util.load_spam_dataset('data/ds6_test.tsv')\n",
    "\n",
    "dictionary = create_dictionary(train_messages)\n",
    "\n",
    "# util.write_json('./output/p06_dictionary', dictionary)\n",
    "\n",
    "train_matrix = transform_text(train_messages, dictionary)\n",
    "\n",
    "# np.savetxt('./output/p06_sample_train_matrix', train_matrix[:100,:])\n",
    "\n",
    "val_matrix = transform_text(val_messages, dictionary)\n",
    "test_matrix = transform_text(test_messages, dictionary)\n",
    "\n",
    "naive_bayes_model = fit_naive_bayes_model(train_matrix, train_labels)\n",
    "\n",
    "naive_bayes_predictions = predict_from_naive_bayes_model(naive_bayes_model, test_matrix)\n",
    "\n",
    "# np.savetxt('./output/p06_naive_bayes_predictions', naive_bayes_predictions)\n",
    "\n",
    "naive_bayes_accuracy = np.mean(naive_bayes_predictions == test_labels)\n",
    "\n",
    "print('Naive Bayes had an accuracy of {} on the testing set'.format(naive_bayes_accuracy))\n",
    "\n",
    "top_5_words = get_top_five_naive_bayes_words(naive_bayes_model, dictionary)\n",
    "\n",
    "print('The top 5 indicative words for Naive Bayes are: ', top_5_words)\n",
    "\n",
    "# util.write_json('./output/p06_top_indicative_words', top_5_words)\n",
    "\n",
    "optimal_radius = compute_best_svm_radius(train_matrix, train_labels, val_matrix, val_labels, [0.01, 0.1, 1, 10])\n",
    "\n",
    "# util.write_json('./output/p06_optimal_radius', optimal_radius)\n",
    "\n",
    "print('The optimal SVM radius was {}'.format(optimal_radius))\n",
    "\n",
    "svm_predictions = svm.train_and_predict_svm(train_matrix, train_labels, test_matrix, optimal_radius)\n",
    "\n",
    "svm_accuracy = np.mean(svm_predictions == test_labels)\n",
    "\n",
    "print('The SVM model had an accuracy of {} on the testing set'.format(svm_accuracy, optimal_radius))\n"
   ]
  }
 ],
 "metadata": {
  "kernelspec": {
   "display_name": "cs229",
   "language": "python",
   "name": "cs229"
  },
  "language_info": {
   "codemirror_mode": {
    "name": "ipython",
    "version": 2
   },
   "file_extension": ".py",
   "mimetype": "text/x-python",
   "name": "python",
   "nbconvert_exporter": "python",
   "pygments_lexer": "ipython2",
   "version": "2.7.6"
  }
 },
 "nbformat": 4,
 "nbformat_minor": 0
}
